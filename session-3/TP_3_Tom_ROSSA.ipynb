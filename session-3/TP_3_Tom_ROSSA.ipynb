{
 "cells": [
  {
   "cell_type": "code",
   "execution_count": 1,
   "metadata": {},
   "outputs": [],
   "source": [
    "# MNIST with an MLP, from scratch\n",
    "\n",
    "# - Step 1: build an MLP from scratch to solve MNIST. Question set: https://fleuret.org/dlc/materials/dlc-practical-3.pdf\n",
    "# - Step 2: debug your network with backprop ninja and a reference implementation using torch's .backward()\n",
    "# - Step 3: build the same MLP but will full pytorch code (nn.Linear, etc.)"
   ]
  },
  {
   "cell_type": "code",
   "execution_count": 2,
   "metadata": {},
   "outputs": [],
   "source": [
    "import math\n",
    "import torch\n",
    "from torch import nn\n",
    "import matplotlib.pyplot as plt\n",
    "%matplotlib inline"
   ]
  },
  {
   "cell_type": "code",
   "execution_count": 3,
   "metadata": {},
   "outputs": [],
   "source": [
    "from utils import load_data"
   ]
  },
  {
   "cell_type": "code",
   "execution_count": 4,
   "metadata": {},
   "outputs": [
    {
     "name": "stdout",
     "output_type": "stream",
     "text": [
      "* Using MNIST\n",
      "** Reduce the data-set (use --full for the full thing)\n",
      "** Use 1000 train and 1000 test samples\n"
     ]
    }
   ],
   "source": [
    "train_input, train_target, test_input, test_target = load_data(one_hot_labels = True, normalize = True)"
   ]
  },
  {
   "cell_type": "code",
   "execution_count": 5,
   "metadata": {},
   "outputs": [
    {
     "data": {
      "text/plain": [
       "<matplotlib.image.AxesImage at 0x7fadd0f8df10>"
      ]
     },
     "execution_count": 5,
     "metadata": {},
     "output_type": "execute_result"
    },
    {
     "data": {
      "image/png": "[encoded data removed]",
      "text/plain": [
       "<Figure size 640x480 with 1 Axes>"
      ]
     },
     "metadata": {},
     "output_type": "display_data"
    }
   ],
   "source": [
    "plt.imshow(train_input[4].view((28,28)))"
   ]
  },
  {
   "cell_type": "code",
   "execution_count": 6,
   "metadata": {},
   "outputs": [],
   "source": [
    "def compute_accuracy (preds, targets):\n",
    "    \"\"\" Computes the accuracy between predictions and targets. Data is expected to be one-hot encoded. \"\"\"\n",
    "    _, idx1 = torch.max(preds, dim=1)\n",
    "    _, idx2 = torch.max(targets, dim=1)\n",
    "    d = idx1 == idx2\n",
    "    return d.int().float().mean().item()"
   ]
  },
  {
   "cell_type": "code",
   "execution_count": 7,
   "metadata": {},
   "outputs": [
    {
     "data": {
      "text/plain": [
       "0.75"
      ]
     },
     "execution_count": 7,
     "metadata": {},
     "output_type": "execute_result"
    }
   ],
   "source": [
    "# unit test\n",
    "# this cell should return 0.75\n",
    "preds = torch.zeros((4,7))\n",
    "preds[0,1] = 1\n",
    "preds[1,4] = 1\n",
    "preds[2,2] = 1\n",
    "preds[3,6] = 1\n",
    "targets = torch.zeros((4,7))\n",
    "targets[0,1] = 1\n",
    "targets[1,4] = 1\n",
    "targets[2,2] = 1\n",
    "targets[3,2] = 1\n",
    "compute_accuracy(preds, targets)"
   ]
  },
  {
   "cell_type": "code",
   "execution_count": null,
   "metadata": {},
   "outputs": [],
   "source": [
    "def sigma(x):\n",
    "    return torch.tanh(x)\n",
    "              \n",
    "def dsigma(x):\n",
    "    return 1 - torch.pow(torch.tanh(x), 2)\n",
    "    "
   ]
  },
  {
   "cell_type": "code",
   "execution_count": 20,
   "metadata": {},
   "outputs": [],
   "source": [
    "def loss (v,t):\n",
    "    return torch.sum(torch.pow(v-t,2)) \n",
    "\n",
    "def dloss(v,t):\n",
    "    return 2*(v-t) "
   ]
  },
  {
   "cell_type": "code",
   "execution_count": 21,
   "metadata": {},
   "outputs": [
    {
     "data": {
      "text/plain": [
       "tensor([[ 3.5529,  1.1427, -0.1610, -2.0885, -3.8716, -4.2020],\n",
       "        [ 1.1891,  2.0751,  4.8847,  1.2422, -1.4316, -4.5210],\n",
       "        [ 5.5198, -1.9320, -1.5009, -2.7508,  0.8101,  1.0077]])"
      ]
     },
     "execution_count": 21,
     "metadata": {},
     "output_type": "execute_result"
    }
   ],
   "source": [
    "# sanity check\n",
    "v = torch.randn((3, 6), dtype=torch.float32)\n",
    "t = torch.randn((3, 6), dtype=torch.float32)\n",
    "l = loss(v,t)\n",
    "dloss(v,t)"
   ]
  },
  {
   "cell_type": "code",
   "execution_count": 22,
   "metadata": {},
   "outputs": [],
   "source": [
    "# multiply targets by 0.9 to be in the range of tanh\n",
    "train_target *= 0.9\n",
    "test_target *= 0.9"
   ]
  },
  {
   "cell_type": "markdown",
   "metadata": {},
   "source": [
    "### Step 1: Backprop ninja"
   ]
  },
  {
   "cell_type": "code",
   "execution_count": 23,
   "metadata": {},
   "outputs": [],
   "source": [
    "# utility function we will use later when comparing manual gradients to PyTorch gradients\n",
    "# DO NOT MODIFY IT\n",
    "#\n",
    "def cmp(s, dt, t):\n",
    "  ex = torch.all(dt == t.grad).item()\n",
    "  app = torch.allclose(dt, t.grad)\n",
    "  maxdiff = (dt - t.grad).abs().max().item()\n",
    "  print(f'{s:15s} | exact: {str(ex):5s} | approximate: {str(app):5s} | maxdiff: {maxdiff}')"
   ]
  },
  {
   "cell_type": "code",
   "execution_count": 24,
   "metadata": {},
   "outputs": [],
   "source": [
    "torch.manual_seed(1337)\n",
    "w1 = torch.randn((784, 50))\n",
    "b1 = torch.randn((50,))\n",
    "w2 = torch.randn((50, 10))\n",
    "b2 = torch.randn((10,))\n",
    "parameters = [w1, b1, w2, b2]\n",
    "for p in parameters:\n",
    "    p.requires_grad = True"
   ]
  },
  {
   "cell_type": "code",
   "execution_count": 25,
   "metadata": {},
   "outputs": [
    {
     "data": {
      "text/plain": [
       "(torch.Size([5, 10]), tensor(1427.7395, grad_fn=<SumBackward0>))"
      ]
     },
     "execution_count": 25,
     "metadata": {},
     "output_type": "execute_result"
    }
   ],
   "source": [
    "x1 = train_input[:5]\n",
    "y1 = train_target[:5]\n",
    "z1 = x1 @ w1 + b1\n",
    "h1 = sigma(z1)\n",
    "z2 = h1 @ w2 + b2\n",
    "h2 = z2\n",
    "l = loss(h2, y1)\n",
    "h2.shape, l"
   ]
  },
  {
   "cell_type": "code",
   "execution_count": 26,
   "metadata": {},
   "outputs": [
    {
     "name": "stdout",
     "output_type": "stream",
     "text": [
      "loss=1427.739501953125\n"
     ]
    }
   ],
   "source": [
    "# Force pytorch to retain grade for intermediate nodes and reset grad for parameters\n",
    "# DO NOT MODIFY THIS CODE\n",
    "#\n",
    "others = [h2,z2,h1,z1]\n",
    "for p in parameters:\n",
    "    p.grad = None\n",
    "for t in others:\n",
    "    t.retain_grad()\n",
    "l.backward()\n",
    "print(f'loss={l}')"
   ]
  },
  {
   "cell_type": "code",
   "execution_count": 16,
   "metadata": {},
   "outputs": [
    {
     "name": "stdout",
     "output_type": "stream",
     "text": [
      "h2              | exact: True  | approximate: True  | maxdiff: 0.0\n",
      "z2              | exact: True  | approximate: True  | maxdiff: 0.0\n",
      "w2              | exact: True  | approximate: True  | maxdiff: 0.0\n",
      "b2              | exact: True  | approximate: True  | maxdiff: 0.0\n",
      "h1              | exact: True  | approximate: True  | maxdiff: 0.0\n",
      "z1              | exact: True  | approximate: True  | maxdiff: 0.0\n",
      "w1              | exact: True  | approximate: True  | maxdiff: 0.0\n",
      "b1              | exact: True  | approximate: True  | maxdiff: 0.0\n"
     ]
    }
   ],
   "source": [
    "# here we compare our gradient to the reference gradient computed by pytorch\n",
    "dl = 1.0\n",
    "dh2 = dloss(h2, y1) * dl\n",
    "cmp('h2',dh2,h2)\n",
    "dz2 = dh2\n",
    "cmp('z2',dz2, z2)\n",
    "dw2 = h1.t() @ dz2\n",
    "cmp('w2',dw2, w2)\n",
    "db2 = dz2.sum(axis=0, keepdim=True)\n",
    "cmp('b2',db2, b2)\n",
    "dh1 = dz2 @ w2.t()\n",
    "cmp('h1',dh1, h1)\n",
    "dz1 = dh1 * dsigma(z1)\n",
    "cmp('z1', dz1, z1)\n",
    "dw1 = x1.t() @ dz1\n",
    "cmp('w1', dw1, w1)\n",
    "db1 = dz1.sum(axis=0, keepdim=True)\n",
    "cmp('b1', db1, b1)\n"
   ]
  },
  {
   "cell_type": "code",
   "execution_count": 17,
   "metadata": {},
   "outputs": [],
   "source": [
    "lr = 0.1\n",
    "with torch.no_grad():\n",
    "    w1 += -lr * dw1\n",
    "    b1 += -lr * db1.squeeze()\n",
    "    w2 += -lr * dw2\n",
    "    b2 += -lr * db2.squeeze()"
   ]
  },
  {
   "cell_type": "code",
   "execution_count": 18,
   "metadata": {},
   "outputs": [
    {
     "data": {
      "text/plain": [
       "1426.097900390625"
      ]
     },
     "execution_count": 18,
     "metadata": {},
     "output_type": "execute_result"
    }
   ],
   "source": [
    "l = loss(h2, y1)\n",
    "l.item()"
   ]
  },
  {
   "cell_type": "markdown",
   "metadata": {},
   "source": [
    "##### Now that we've checked our gradients are correct, we can implement the network"
   ]
  },
  {
   "cell_type": "code",
   "execution_count": 32,
   "metadata": {},
   "outputs": [],
   "source": [
    "def forward(w1, b1, w2, b2, x):\n",
    "    z1 = x @ w1 + b1\n",
    "    h1 = sigma(z1)\n",
    "    z2 = h1 @ w2 + b2\n",
    "    h2 = z2\n",
    "    return z1, h1, z2, h2\n"
   ]
  },
  {
   "cell_type": "code",
   "execution_count": 33,
   "metadata": {},
   "outputs": [],
   "source": [
    "def backward(w1, b1, w2, b2, x1, y1, h2, z2, h1, z1):\n",
    "    dl = 1.0\n",
    "    dh2 = dloss(h2, y1) * dl\n",
    "    dz2 = dh2\n",
    "    dw2 = h1.t() @ dz2\n",
    "    db2 = dz2.sum(axis=0, keepdim=True)\n",
    "    dh1 = dz2 @ w2.t()\n",
    "    dz1 = dh1 * dsigma(z1)\n",
    "    dw1 = x1.t() @ dz1\n",
    "    db1 = dz1.sum(axis=0, keepdim=True)\n",
    "    return dw1, db1, dw2, db2"
   ]
  },
  {
   "cell_type": "code",
   "execution_count": 34,
   "metadata": {},
   "outputs": [],
   "source": [
    "def update(w1, b1, w2, b2, dw1, db1, dw2, db2, lr):\n",
    "    with torch.no_grad():\n",
    "        w1 += -lr * dw1\n",
    "        b1 += -lr * db1.squeeze()\n",
    "        w2 += -lr * dw2\n",
    "        b2 += -lr * db2.squeeze()\n",
    "    return w1, b1, w2, b2"
   ]
  },
  {
   "cell_type": "code",
   "execution_count": 35,
   "metadata": {},
   "outputs": [],
   "source": [
    "def init():\n",
    "    \"\"\" init a network \"\"\"\n",
    "    w1 = torch.randn((784, 50))\n",
    "    b1 = torch.randn((50,)) \n",
    "    w2 = torch.randn((50, 10))\n",
    "    b2 = torch.randn((10,))\n",
    "    return w1, b1, w2, b2"
   ]
  },
  {
   "cell_type": "code",
   "execution_count": 36,
   "metadata": {},
   "outputs": [],
   "source": [
    "w1, b1, w2, b2 = init()\n",
    "parameters = [w1, b1, w2, b2]\n",
    "for p in parameters:\n",
    "    p.requires_grad_(True)"
   ]
  },
  {
   "cell_type": "markdown",
   "metadata": {},
   "source": [
    "Ici pour éviter l'explosion de la loss, on joue sur le learning rate. S'il est trop grand au début du training, les losses explosent. On peut aussi tenter de prendre la moyenne au lieu de la somme pour la loss, ce que l'on ne fait pas ici. "
   ]
  },
  {
   "cell_type": "code",
   "execution_count": 37,
   "metadata": {},
   "outputs": [],
   "source": [
    "# main training loop\n",
    "torch.set_printoptions(linewidth=200)\n",
    "def train(w1, b1, w2, b2):\n",
    "    lossi = []\n",
    "    for step in range(10000):\n",
    "        xb = train_input\n",
    "        yb = train_target\n",
    "        num_samples = xb.shape[0]\n",
    "        # forward\n",
    "        z1, h1, z2, h2 = forward(w1, b1, w2, b2, xb)\n",
    "        lsi = loss(h2, yb)\n",
    "        # backward\n",
    "        dw1, db1, dw2, db2 = backward(w1, b1, w2, b2, xb, yb, h2, z2, h1, z1)\n",
    "        # update\n",
    "        lr = 0.01 / num_samples if step < 5000 else 0.01 / num_samples\n",
    "        w1, b1, w2, b2 = update(w1, b1, w2, b2, dw1, db1, dw2, db2, lr)\n",
    "        if step % 100 == 0: print(f'step = {step}, loss = {lsi}')\n",
    "        lossi.append(lsi.item())\n",
    "        #print(lsi.item())\n",
    "    # compute accuracy\n",
    "    _, _, _, preds = forward(w1, b1, w2, b2, train_input)\n",
    "    train_accuracy = compute_accuracy(preds, train_target)\n",
    "    _, _, _, preds = forward(w1, b1, w2, b2, test_input)\n",
    "    test_accuracy = compute_accuracy(preds, test_target)\n",
    "    print(f'{train_accuracy=}')\n",
    "    print(f'{test_accuracy=}')\n",
    "    return lossi"
   ]
  },
  {
   "cell_type": "code",
   "execution_count": 38,
   "metadata": {},
   "outputs": [
    {
     "name": "stdout",
     "output_type": "stream",
     "text": [
      "step = 0, loss = 408477.25\n",
      "step = 100, loss = 28828.1171875\n",
      "step = 200, loss = 10713.1572265625\n",
      "step = 300, loss = 5308.1796875\n",
      "step = 400, loss = 3081.2294921875\n",
      "step = 500, loss = 1995.146484375\n",
      "step = 600, loss = 1405.490234375\n",
      "step = 700, loss = 1065.2857666015625\n",
      "step = 800, loss = 855.6450805664062\n",
      "step = 900, loss = 722.3392333984375\n",
      "step = 1000, loss = 633.9442749023438\n",
      "step = 1100, loss = 573.2753295898438\n",
      "step = 1200, loss = 530.39990234375\n",
      "step = 1300, loss = 499.17767333984375\n",
      "step = 1400, loss = 475.38043212890625\n",
      "step = 1500, loss = 452.91680908203125\n",
      "step = 1600, loss = 438.9681701660156\n",
      "step = 1700, loss = 428.1716003417969\n",
      "step = 1800, loss = 419.29779052734375\n",
      "step = 1900, loss = 412.4455871582031\n",
      "step = 2000, loss = 406.98651123046875\n",
      "step = 2100, loss = 402.4430236816406\n",
      "step = 2200, loss = 398.5719909667969\n",
      "step = 2300, loss = 395.2218017578125\n",
      "step = 2400, loss = 392.28643798828125\n",
      "step = 2500, loss = 389.687744140625\n",
      "step = 2600, loss = 387.36614990234375\n",
      "step = 2700, loss = 385.27508544921875\n",
      "step = 2800, loss = 383.3778991699219\n",
      "step = 2900, loss = 381.64495849609375\n",
      "step = 3000, loss = 380.05267333984375\n",
      "step = 3100, loss = 378.5820617675781\n",
      "step = 3200, loss = 377.2176513671875\n",
      "step = 3300, loss = 375.9474182128906\n",
      "step = 3400, loss = 374.76092529296875\n",
      "step = 3500, loss = 373.64984130859375\n",
      "step = 3600, loss = 372.60675048828125\n",
      "step = 3700, loss = 371.6251220703125\n",
      "step = 3800, loss = 370.6990661621094\n",
      "step = 3900, loss = 369.8230895996094\n",
      "step = 4000, loss = 368.9923400878906\n",
      "step = 4100, loss = 368.20233154296875\n",
      "step = 4200, loss = 367.4488525390625\n",
      "step = 4300, loss = 366.72833251953125\n",
      "step = 4400, loss = 366.0373229980469\n",
      "step = 4500, loss = 365.3728332519531\n",
      "step = 4600, loss = 364.7322692871094\n",
      "step = 4700, loss = 364.11328125\n",
      "step = 4800, loss = 363.5140380859375\n",
      "step = 4900, loss = 362.9327392578125\n",
      "step = 5000, loss = 362.3685607910156\n",
      "step = 5100, loss = 361.8204345703125\n",
      "step = 5200, loss = 361.28765869140625\n",
      "step = 5300, loss = 360.76934814453125\n",
      "step = 5400, loss = 360.26458740234375\n",
      "step = 5500, loss = 359.7723083496094\n",
      "step = 5600, loss = 359.2915954589844\n",
      "step = 5700, loss = 358.8216247558594\n",
      "step = 5800, loss = 358.361328125\n",
      "step = 5900, loss = 357.91015625\n",
      "step = 6000, loss = 357.467529296875\n",
      "step = 6100, loss = 357.03314208984375\n",
      "step = 6200, loss = 356.60662841796875\n",
      "step = 6300, loss = 356.1878356933594\n",
      "step = 6400, loss = 355.7765808105469\n",
      "step = 6500, loss = 355.372802734375\n",
      "step = 6600, loss = 354.9764099121094\n",
      "step = 6700, loss = 354.5873107910156\n",
      "step = 6800, loss = 354.2052001953125\n",
      "step = 6900, loss = 353.8299255371094\n",
      "step = 7000, loss = 353.4610595703125\n",
      "step = 7100, loss = 353.09832763671875\n",
      "step = 7200, loss = 352.7410583496094\n",
      "step = 7300, loss = 352.38885498046875\n",
      "step = 7400, loss = 352.041015625\n",
      "step = 7500, loss = 351.6968994140625\n",
      "step = 7600, loss = 351.355712890625\n",
      "step = 7700, loss = 351.0170593261719\n",
      "step = 7800, loss = 350.68072509765625\n",
      "step = 7900, loss = 350.3470764160156\n",
      "step = 8000, loss = 350.01727294921875\n",
      "step = 8100, loss = 349.6923522949219\n",
      "step = 8200, loss = 349.37322998046875\n",
      "step = 8300, loss = 349.0599365234375\n",
      "step = 8400, loss = 348.7524719238281\n",
      "step = 8500, loss = 348.45037841796875\n",
      "step = 8600, loss = 348.1531677246094\n",
      "step = 8700, loss = 347.86065673828125\n",
      "step = 8800, loss = 347.5723571777344\n",
      "step = 8900, loss = 347.2881774902344\n",
      "step = 9000, loss = 347.0080261230469\n",
      "step = 9100, loss = 346.731689453125\n",
      "step = 9200, loss = 346.4591064453125\n",
      "step = 9300, loss = 346.1902770996094\n",
      "step = 9400, loss = 345.9248962402344\n",
      "step = 9500, loss = 345.662841796875\n",
      "step = 9600, loss = 345.4040222167969\n",
      "step = 9700, loss = 345.1481018066406\n",
      "step = 9800, loss = 344.8949890136719\n",
      "step = 9900, loss = 344.64453125\n",
      "train_accuracy=0.7699999809265137\n",
      "test_accuracy=0.5860000252723694\n"
     ]
    }
   ],
   "source": [
    "lossi = train(w1, b1, w2, b2)"
   ]
  },
  {
   "cell_type": "code",
   "execution_count": 39,
   "metadata": {},
   "outputs": [
    {
     "data": {
      "image/png": "[encoded data removed]",
      "text/plain": [
       "<Figure size 640x480 with 1 Axes>"
      ]
     },
     "metadata": {},
     "output_type": "display_data"
    }
   ],
   "source": [
    "plt.plot(lossi[10:], label='loss')\n",
    "plt.legend()\n",
    "plt.show()"
   ]
  },
  {
   "cell_type": "markdown",
   "metadata": {},
   "source": [
    "### Step 2: Reference implementation using pytorch's .backward()\n",
    "Nothing to do in Step 2, this code is provided for you as a reference"
   ]
  },
  {
   "cell_type": "code",
   "execution_count": 45,
   "metadata": {},
   "outputs": [],
   "source": [
    "w1, b1, w2, b2 = init()\n",
    "parameters = [w1, b1, w2, b2]\n",
    "for p in parameters:\n",
    "    p.requires_grad_(True)"
   ]
  },
  {
   "cell_type": "markdown",
   "metadata": {},
   "source": [
    "On a pris le même learning rate que précédemment pour éviter l'explosion des losses. "
   ]
  },
  {
   "cell_type": "code",
   "execution_count": 46,
   "metadata": {},
   "outputs": [],
   "source": [
    "# reference code\n",
    "torch.set_printoptions(linewidth=200)\n",
    "import torch.nn as F\n",
    "\n",
    "def train(w1, b1, w2, b2):\n",
    "    lossi = []\n",
    "    for step in range(10000):\n",
    "        xb = train_input\n",
    "        yb = train_target\n",
    "        num_samples = xb.shape[0]\n",
    "        # forward\n",
    "        z1, h1, z2, h2 = forward(w1, b1, w2, b2, xb)\n",
    "        xloss = F.MSELoss()\n",
    "        lsi = xloss(h2, yb) * yb.nelement()\n",
    "        # backward\n",
    "        for p in parameters:\n",
    "            p.grad = None\n",
    "        lsi.backward()\n",
    "        # update\n",
    "        lr = 0.01 / num_samples\n",
    "        for p in parameters:\n",
    "            p.data += -lr * p.grad\n",
    "        if step % 100 == 0: print(f'step = {step}, loss = {lsi}')\n",
    "        lossi.append(lsi.item())\n",
    "    # compute accuracy\n",
    "    _, _, _, preds = forward(w1, b1, w2, b2, train_input)\n",
    "    train_accuracy = compute_accuracy(preds, train_target)\n",
    "    _, _, _, preds = forward(w1, b1, w2, b2, test_input)\n",
    "    test_accuracy = compute_accuracy(preds, test_target)\n",
    "    print(f'{train_accuracy=}')\n",
    "    print(f'{test_accuracy=}')\n",
    "    return lossi"
   ]
  },
  {
   "cell_type": "code",
   "execution_count": 47,
   "metadata": {},
   "outputs": [
    {
     "name": "stdout",
     "output_type": "stream",
     "text": [
      "step = 0, loss = 489977.375\n",
      "step = 100, loss = 29850.802734375\n",
      "step = 200, loss = 10369.3330078125\n",
      "step = 300, loss = 4731.6904296875\n",
      "step = 400, loss = 2535.48095703125\n",
      "step = 500, loss = 1543.9052734375\n",
      "step = 600, loss = 1063.3631591796875\n",
      "step = 700, loss = 810.9407958984375\n",
      "step = 800, loss = 669.3974609375\n",
      "step = 900, loss = 585.3501586914062\n",
      "step = 1000, loss = 532.712646484375\n",
      "step = 1100, loss = 498.0165100097656\n",
      "step = 1200, loss = 473.98046875\n",
      "step = 1300, loss = 456.5047607421875\n",
      "step = 1400, loss = 443.1932067871094\n",
      "step = 1500, loss = 432.6089172363281\n",
      "step = 1600, loss = 423.8834533691406\n",
      "step = 1700, loss = 416.3723449707031\n",
      "step = 1800, loss = 409.4836730957031\n",
      "step = 1900, loss = 403.72210693359375\n",
      "step = 2000, loss = 398.6879577636719\n",
      "step = 2100, loss = 394.253662109375\n",
      "step = 2200, loss = 390.3627014160156\n",
      "step = 2300, loss = 386.8446350097656\n",
      "step = 2400, loss = 383.6231689453125\n",
      "step = 2500, loss = 380.64825439453125\n",
      "step = 2600, loss = 377.8819885253906\n",
      "step = 2700, loss = 375.29449462890625\n",
      "step = 2800, loss = 372.862548828125\n",
      "step = 2900, loss = 370.5682678222656\n",
      "step = 3000, loss = 368.398193359375\n",
      "step = 3100, loss = 366.3431396484375\n",
      "step = 3200, loss = 364.3966979980469\n",
      "step = 3300, loss = 362.5528259277344\n",
      "step = 3400, loss = 360.80584716796875\n",
      "step = 3500, loss = 359.15008544921875\n",
      "step = 3600, loss = 357.5798034667969\n",
      "step = 3700, loss = 356.0898742675781\n",
      "step = 3800, loss = 354.6752014160156\n",
      "step = 3900, loss = 353.33099365234375\n",
      "step = 4000, loss = 352.0526123046875\n",
      "step = 4100, loss = 350.83551025390625\n",
      "step = 4200, loss = 349.6755065917969\n",
      "step = 4300, loss = 348.5684814453125\n",
      "step = 4400, loss = 347.51068115234375\n",
      "step = 4500, loss = 346.4987487792969\n",
      "step = 4600, loss = 345.52947998046875\n",
      "step = 4700, loss = 344.6001281738281\n",
      "step = 4800, loss = 343.7081604003906\n",
      "step = 4900, loss = 342.85125732421875\n",
      "step = 5000, loss = 342.0272216796875\n",
      "step = 5100, loss = 341.2342529296875\n",
      "step = 5200, loss = 340.4706115722656\n",
      "step = 5300, loss = 339.734619140625\n",
      "step = 5400, loss = 339.0245361328125\n",
      "step = 5500, loss = 338.33856201171875\n",
      "step = 5600, loss = 337.67510986328125\n",
      "step = 5700, loss = 337.0322265625\n",
      "step = 5800, loss = 336.4083251953125\n",
      "step = 5900, loss = 335.8020324707031\n",
      "step = 6000, loss = 335.21185302734375\n",
      "step = 6100, loss = 334.63665771484375\n",
      "step = 6200, loss = 334.0757141113281\n",
      "step = 6300, loss = 333.5284423828125\n",
      "step = 6400, loss = 332.9945373535156\n",
      "step = 6500, loss = 332.47406005859375\n",
      "step = 6600, loss = 331.967041015625\n",
      "step = 6700, loss = 331.4735107421875\n",
      "step = 6800, loss = 330.9932861328125\n",
      "step = 6900, loss = 330.526123046875\n",
      "step = 7000, loss = 330.07135009765625\n",
      "step = 7100, loss = 329.6278076171875\n",
      "step = 7200, loss = 329.1944885253906\n",
      "step = 7300, loss = 328.7695617675781\n",
      "step = 7400, loss = 328.3516540527344\n",
      "step = 7500, loss = 327.93994140625\n",
      "step = 7600, loss = 327.53448486328125\n",
      "step = 7700, loss = 327.13623046875\n",
      "step = 7800, loss = 326.7465515136719\n",
      "step = 7900, loss = 326.3656311035156\n",
      "step = 8000, loss = 325.9929504394531\n",
      "step = 8100, loss = 325.627685546875\n",
      "step = 8200, loss = 325.2687683105469\n",
      "step = 8300, loss = 324.915771484375\n",
      "step = 8400, loss = 324.56842041015625\n",
      "step = 8500, loss = 324.22686767578125\n",
      "step = 8600, loss = 323.8912048339844\n",
      "step = 8700, loss = 323.56146240234375\n",
      "step = 8800, loss = 323.2377624511719\n",
      "step = 8900, loss = 322.9201354980469\n",
      "step = 9000, loss = 322.6084899902344\n",
      "step = 9100, loss = 322.3028259277344\n",
      "step = 9200, loss = 322.0030212402344\n",
      "step = 9300, loss = 321.7089538574219\n",
      "step = 9400, loss = 321.4203796386719\n",
      "step = 9500, loss = 321.1370849609375\n",
      "step = 9600, loss = 320.8583679199219\n",
      "step = 9700, loss = 320.5836181640625\n",
      "step = 9800, loss = 320.31207275390625\n",
      "step = 9900, loss = 320.0427551269531\n",
      "train_accuracy=0.7950000166893005\n",
      "test_accuracy=0.546999990940094\n"
     ]
    }
   ],
   "source": [
    "lossi = train(w1, b1, w2, b2)"
   ]
  },
  {
   "cell_type": "code",
   "execution_count": 48,
   "metadata": {},
   "outputs": [
    {
     "data": {
      "image/png": "[encoded data removed]",
      "text/plain": [
       "<Figure size 640x480 with 1 Axes>"
      ]
     },
     "metadata": {},
     "output_type": "display_data"
    }
   ],
   "source": [
    "plt.plot(lossi, label='loss')\n",
    "plt.legend()\n",
    "plt.show()"
   ]
  },
  {
   "cell_type": "markdown",
   "metadata": {},
   "source": [
    "### Step 3: Build the same MLP layer but with fully pytorch code (nn.Linear(), etc.)"
   ]
  },
  {
   "cell_type": "code",
   "execution_count": 55,
   "metadata": {},
   "outputs": [],
   "source": [
    "# network dimensions\n",
    "n_in = 784\n",
    "n_hidden = 200\n",
    "n_out = 10"
   ]
  },
  {
   "cell_type": "code",
   "execution_count": 56,
   "metadata": {},
   "outputs": [],
   "source": [
    "X_tr, Y_tr = train_input, train_target\n",
    "X_test, Y_test = test_input, test_target"
   ]
  },
  {
   "cell_type": "code",
   "execution_count": 57,
   "metadata": {},
   "outputs": [],
   "source": [
    "class MLP(nn.Module):\n",
    "\n",
    "    def __init__(self):\n",
    "        super().__init__()\n",
    "        self.layers = nn.ModuleList((\n",
    "            nn.Linear(n_in, n_hidden),  \n",
    "            nn.Tanh(),                 \n",
    "            nn.Linear(n_hidden, n_out)  \n",
    "        ))\n",
    "\n",
    "    def __call__(self, x):\n",
    "        for layer in self.layers:\n",
    "            x = layer(x) \n",
    "        return x\n",
    "    \n",
    "    def __parameters__(self):\n",
    "        return [p for layer in self.layers for p in layer.parameters]\n",
    "\n",
    "model = MLP()\n",
    "optimizer = torch.optim.AdamW(model.parameters(), lr=1e-3)\n",
    "loss_fn = nn.MSELoss()"
   ]
  },
  {
   "cell_type": "code",
   "execution_count": 58,
   "metadata": {},
   "outputs": [
    {
     "name": "stdout",
     "output_type": "stream",
     "text": [
      "step =      0\tloss=0.14508\taccuracy (train, test): 0.05600\t0.10300\n",
      "step =   1000\tloss=0.00004\taccuracy (train, test): 1.00000\t0.87600\n",
      "step =   2000\tloss=0.00000\taccuracy (train, test): 1.00000\t0.88100\n",
      "step =   3000\tloss=0.00004\taccuracy (train, test): 1.00000\t0.88200\n",
      "step =   4000\tloss=0.00004\taccuracy (train, test): 1.00000\t0.88200\n",
      "step =   5000\tloss=0.00000\taccuracy (train, test): 1.00000\t0.88300\n",
      "step =   6000\tloss=0.00001\taccuracy (train, test): 1.00000\t0.88200\n",
      "step =   7000\tloss=0.00009\taccuracy (train, test): 1.00000\t0.88000\n",
      "step =   8000\tloss=0.00004\taccuracy (train, test): 1.00000\t0.87800\n",
      "step =   9000\tloss=0.00003\taccuracy (train, test): 1.00000\t0.87400\n"
     ]
    }
   ],
   "source": [
    "# training\n",
    "num_epochs = 10000\n",
    "\n",
    "for n in range(num_epochs):\n",
    "    y_pred = model(X_tr)\n",
    "    loss = loss_fn(y_pred, Y_tr)\n",
    "    optimizer.zero_grad()\n",
    "    loss.backward()\n",
    "    optimizer.step()\n",
    "    if n % 1000 == 0: \n",
    "        with torch.no_grad():\n",
    "            # train accuracy\n",
    "            acc_train = compute_accuracy(y_pred, Y_tr)\n",
    "            # test accuracy\n",
    "            y_test_preds = model(X_test)\n",
    "            acc_test = compute_accuracy(y_test_preds, Y_test)\n",
    "            print(f'step = {n:6d}\\tloss={loss.item():.5f}\\taccuracy (train, test): {acc_train:.5f}\\t{acc_test:.5f}')\n"
   ]
  },
  {
   "cell_type": "markdown",
   "metadata": {},
   "source": [
    "##### Exercise: try to improve accuracy!\n",
    "\n",
    "Pour cette exercice, on réalise unE série de modifications par rapport au précédent MLP en espérant améliorer l'accuracy du modèle sur le dataset de test. L'accuracy du train étant déjà à 1 et celle du test déjà très élevée, nous allons voir si on peut faire mieux. \n",
    "\n",
    "Tout d'abord, on modifie les fonctions d'activation en prenant des fonctions ReLU. On ajoute également une couche cachée au réseau. On modifie également la fonction de perte, en sélectionnant la cross entropy loss, censée être mieux adapter à la classification.\n",
    "\n",
    "Enfin, on utilise la méthode de Pytorch \"lr_scheduler\" qui adapte le learning rate au cours de l'entraînement et est censé améliorer la vitesse de convergence et donc de l'entraînement. "
   ]
  },
  {
   "cell_type": "code",
   "execution_count": 64,
   "metadata": {},
   "outputs": [],
   "source": [
    "import torch.optim.lr_scheduler as lr_scheduler ## import the scheduler qui permet de mieux choisir le learning rate\n",
    "\n",
    "class MLP_upgrade(nn.Module):\n",
    "\n",
    "    def __init__(self):\n",
    "        super().__init__()\n",
    "        self.layers = nn.ModuleList((\n",
    "            nn.Linear(n_in, n_hidden),\n",
    "            nn.ReLU(),  \n",
    "            nn.Linear(n_hidden, n_hidden),\n",
    "            nn.ReLU(),\n",
    "            nn.Linear(n_hidden, n_out)  \n",
    "        ))\n",
    "\n",
    "    def __call__(self, x):\n",
    "        for layer in self.layers:\n",
    "            x = layer(x) \n",
    "        return x\n",
    "    \n",
    "    def __parameters__(self):\n",
    "        return [p for layer in self.layers for p in layer.parameters]\n",
    "\n",
    "model = MLP_upgrade()\n",
    "\n",
    "optimizer = torch.optim.Adam(model.parameters(), lr=1e-3, weight_decay=1e-5)\n",
    "scheduler = lr_scheduler.StepLR(optimizer, step_size=1000, gamma=0.9)\n",
    "loss_fn = nn.CrossEntropyLoss()\n"
   ]
  },
  {
   "cell_type": "code",
   "execution_count": 65,
   "metadata": {},
   "outputs": [
    {
     "name": "stdout",
     "output_type": "stream",
     "text": [
      "step =      0\tloss=1.86197\taccuracy (train, test): 0.11500\t0.39900\n",
      "step =   1000\tloss=0.00004\taccuracy (train, test): 1.00000\t0.85100\n",
      "step =   2000\tloss=0.00003\taccuracy (train, test): 1.00000\t0.85200\n",
      "step =   3000\tloss=0.00003\taccuracy (train, test): 1.00000\t0.85300\n",
      "step =   4000\tloss=0.00002\taccuracy (train, test): 1.00000\t0.85600\n",
      "step =   5000\tloss=0.00002\taccuracy (train, test): 1.00000\t0.85700\n",
      "step =   6000\tloss=0.00002\taccuracy (train, test): 1.00000\t0.86500\n",
      "step =   7000\tloss=0.00002\taccuracy (train, test): 1.00000\t0.86100\n",
      "step =   8000\tloss=0.00002\taccuracy (train, test): 1.00000\t0.86500\n",
      "step =   9000\tloss=0.00002\taccuracy (train, test): 1.00000\t0.86600\n"
     ]
    }
   ],
   "source": [
    "# training\n",
    "num_epochs = 10000\n",
    "\n",
    "for n in range(num_epochs):\n",
    "    y_pred = model(X_tr)\n",
    "    loss = loss_fn(y_pred, Y_tr)\n",
    "    optimizer.zero_grad()\n",
    "    loss.backward()\n",
    "    optimizer.step()\n",
    "    scheduler.step() # learning rate update à chaque epoch\n",
    "    \n",
    "    if n % 1000 == 0: \n",
    "        with torch.no_grad():\n",
    "            # train accuracy\n",
    "            acc_train = compute_accuracy(y_pred, Y_tr)\n",
    "            # test accuracy\n",
    "            y_test_preds = model(X_test)\n",
    "            acc_test = compute_accuracy(y_test_preds, Y_test)\n",
    "            print(f'step = {n:6d}\\tloss={loss.item():.5f}\\taccuracy (train, test): {acc_train:.5f}\\t{acc_test:.5f}')\n"
   ]
  },
  {
   "cell_type": "markdown",
   "metadata": {},
   "source": [
    "On remarque, que l'accuracy de notre précédent réseau est légèrement moins bonne que précédemment. On tente ainsi d'ajouter du dropout dans le réseau pour voir si cela permet effectivement de mieux généraliser, et atteindre une meilleure accuracy out of sample. "
   ]
  },
  {
   "cell_type": "code",
   "execution_count": 66,
   "metadata": {},
   "outputs": [],
   "source": [
    "class MLP_upgrade_drop(nn.Module):\n",
    "\n",
    "    def __init__(self):\n",
    "        super().__init__()\n",
    "        self.layers = nn.ModuleList((\n",
    "            nn.Linear(n_in, n_hidden),\n",
    "            nn.ReLU(),\n",
    "            nn.Dropout(0.2),  # 20% de dropout, choisi arbitrairement \n",
    "            nn.Linear(n_hidden, n_hidden),\n",
    "            nn.ReLU(),\n",
    "            nn.Linear(n_hidden, n_out)\n",
    "        ))\n",
    "\n",
    "    def __call__(self, x):\n",
    "        for layer in self.layers:\n",
    "            x = layer(x) \n",
    "        return x\n",
    "    \n",
    "    def __parameters__(self):\n",
    "        return [p for layer in self.layers for p in layer.parameters]\n",
    "\n",
    "model = MLP_upgrade_drop()\n",
    "\n",
    "optimizer = torch.optim.Adam(model.parameters(), lr=1e-3, weight_decay=1e-5)\n",
    "scheduler = lr_scheduler.StepLR(optimizer, step_size=1000, gamma=0.9)\n",
    "loss_fn = nn.CrossEntropyLoss()\n"
   ]
  },
  {
   "cell_type": "code",
   "execution_count": 67,
   "metadata": {},
   "outputs": [
    {
     "name": "stdout",
     "output_type": "stream",
     "text": [
      "step =      0\tloss=1.87914\taccuracy (train, test): 0.07300\t0.29800\n",
      "step =   1000\tloss=0.00006\taccuracy (train, test): 1.00000\t0.85700\n",
      "step =   2000\tloss=0.00006\taccuracy (train, test): 1.00000\t0.86300\n",
      "step =   3000\tloss=0.00001\taccuracy (train, test): 1.00000\t0.86100\n",
      "step =   4000\tloss=0.00002\taccuracy (train, test): 1.00000\t0.86000\n",
      "step =   5000\tloss=0.00003\taccuracy (train, test): 1.00000\t0.86900\n",
      "step =   6000\tloss=0.00002\taccuracy (train, test): 1.00000\t0.86500\n",
      "step =   7000\tloss=0.00003\taccuracy (train, test): 1.00000\t0.87700\n",
      "step =   8000\tloss=0.00004\taccuracy (train, test): 1.00000\t0.88400\n",
      "step =   9000\tloss=0.00002\taccuracy (train, test): 1.00000\t0.88000\n"
     ]
    }
   ],
   "source": [
    "# training\n",
    "num_epochs = 10000\n",
    "\n",
    "for n in range(num_epochs):\n",
    "    y_pred = model(X_tr)\n",
    "    loss = loss_fn(y_pred, Y_tr)\n",
    "    optimizer.zero_grad()\n",
    "    loss.backward()\n",
    "    optimizer.step()\n",
    "    scheduler.step() # learning rate update à chaque epoch\n",
    "    \n",
    "    if n % 1000 == 0: \n",
    "        with torch.no_grad():\n",
    "            # train accuracy\n",
    "            acc_train = compute_accuracy(y_pred, Y_tr)\n",
    "            # test accuracy\n",
    "            y_test_preds = model(X_test)\n",
    "            acc_test = compute_accuracy(y_test_preds, Y_test)\n",
    "            print(f'step = {n:6d}\\tloss={loss.item():.5f}\\taccuracy (train, test): {acc_train:.5f}\\t{acc_test:.5f}')\n"
   ]
  },
  {
   "cell_type": "markdown",
   "metadata": {},
   "source": [
    "On atteint des performance très légèrement meilleures que le premier réseau."
   ]
  }
 ],
 "metadata": {
  "kernelspec": {
   "display_name": "base",
   "language": "python",
   "name": "python3"
  },
  "language_info": {
   "codemirror_mode": {
    "name": "ipython",
    "version": 3
   },
   "file_extension": ".py",
   "mimetype": "text/x-python",
   "name": "python",
   "nbconvert_exporter": "python",
   "pygments_lexer": "ipython3",
   "version": "3.9.7"
  }
 },
 "nbformat": 4,
 "nbformat_minor": 2
}
